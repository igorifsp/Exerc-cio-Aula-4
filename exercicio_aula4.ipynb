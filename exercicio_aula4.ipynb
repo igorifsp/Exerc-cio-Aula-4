{
  "metadata": {
    "kernelspec": {
      "name": "python",
      "display_name": "Python (Pyodide)",
      "language": "python"
    },
    "language_info": {
      "codemirror_mode": {
        "name": "python",
        "version": 3
      },
      "file_extension": ".py",
      "mimetype": "text/x-python",
      "name": "python",
      "nbconvert_exporter": "python",
      "pygments_lexer": "ipython3",
      "version": "3.8"
    }
  },
  "nbformat_minor": 4,
  "nbformat": 4,
  "cells": [
    {
      "cell_type": "code",
      "source": "pip install pandas",
      "metadata": {
        "trusted": true
      },
      "outputs": [
        {
          "ename": "<class 'OSError'>",
          "evalue": "Not available",
          "traceback": [
            "\u001b[0;31m---------------------------------------------------------------------------\u001b[0m",
            "\u001b[0;31mOSError\u001b[0m                                   Traceback (most recent call last)",
            "Cell \u001b[0;32mIn[1], line 1\u001b[0m\n\u001b[0;32m----> 1\u001b[0m \u001b[43mget_ipython\u001b[49m\u001b[43m(\u001b[49m\u001b[43m)\u001b[49m\u001b[38;5;241;43m.\u001b[39;49m\u001b[43mrun_line_magic\u001b[49m\u001b[43m(\u001b[49m\u001b[38;5;124;43m'\u001b[39;49m\u001b[38;5;124;43mpip\u001b[39;49m\u001b[38;5;124;43m'\u001b[39;49m\u001b[43m,\u001b[49m\u001b[43m \u001b[49m\u001b[38;5;124;43m'\u001b[39;49m\u001b[38;5;124;43minstall pandas\u001b[39;49m\u001b[38;5;124;43m'\u001b[39;49m\u001b[43m)\u001b[49m\n",
            "File \u001b[0;32m/lib/python3.12/site-packages/IPython/core/interactiveshell.py:2480\u001b[0m, in \u001b[0;36mInteractiveShell.run_line_magic\u001b[0;34m(self, magic_name, line, _stack_depth)\u001b[0m\n\u001b[1;32m   2478\u001b[0m     kwargs[\u001b[38;5;124m'\u001b[39m\u001b[38;5;124mlocal_ns\u001b[39m\u001b[38;5;124m'\u001b[39m] \u001b[38;5;241m=\u001b[39m \u001b[38;5;28mself\u001b[39m\u001b[38;5;241m.\u001b[39mget_local_scope(stack_depth)\n\u001b[1;32m   2479\u001b[0m \u001b[38;5;28;01mwith\u001b[39;00m \u001b[38;5;28mself\u001b[39m\u001b[38;5;241m.\u001b[39mbuiltin_trap:\n\u001b[0;32m-> 2480\u001b[0m     result \u001b[38;5;241m=\u001b[39m \u001b[43mfn\u001b[49m\u001b[43m(\u001b[49m\u001b[38;5;241;43m*\u001b[39;49m\u001b[43margs\u001b[49m\u001b[43m,\u001b[49m\u001b[43m \u001b[49m\u001b[38;5;241;43m*\u001b[39;49m\u001b[38;5;241;43m*\u001b[39;49m\u001b[43mkwargs\u001b[49m\u001b[43m)\u001b[49m\n\u001b[1;32m   2482\u001b[0m \u001b[38;5;66;03m# The code below prevents the output from being displayed\u001b[39;00m\n\u001b[1;32m   2483\u001b[0m \u001b[38;5;66;03m# when using magics with decorator @output_can_be_silenced\u001b[39;00m\n\u001b[1;32m   2484\u001b[0m \u001b[38;5;66;03m# when the last Python token in the expression is a ';'.\u001b[39;00m\n\u001b[1;32m   2485\u001b[0m \u001b[38;5;28;01mif\u001b[39;00m \u001b[38;5;28mgetattr\u001b[39m(fn, magic\u001b[38;5;241m.\u001b[39mMAGIC_OUTPUT_CAN_BE_SILENCED, \u001b[38;5;28;01mFalse\u001b[39;00m):\n",
            "File \u001b[0;32m/lib/python3.12/site-packages/IPython/core/magics/packaging.py:92\u001b[0m, in \u001b[0;36mPackagingMagics.pip\u001b[0;34m(self, line)\u001b[0m\n\u001b[1;32m     89\u001b[0m \u001b[38;5;28;01melse\u001b[39;00m:\n\u001b[1;32m     90\u001b[0m     python \u001b[38;5;241m=\u001b[39m shlex\u001b[38;5;241m.\u001b[39mquote(python)\n\u001b[0;32m---> 92\u001b[0m \u001b[38;5;28;43mself\u001b[39;49m\u001b[38;5;241;43m.\u001b[39;49m\u001b[43mshell\u001b[49m\u001b[38;5;241;43m.\u001b[39;49m\u001b[43msystem\u001b[49m\u001b[43m(\u001b[49m\u001b[38;5;124;43m\"\u001b[39;49m\u001b[38;5;124;43m \u001b[39;49m\u001b[38;5;124;43m\"\u001b[39;49m\u001b[38;5;241;43m.\u001b[39;49m\u001b[43mjoin\u001b[49m\u001b[43m(\u001b[49m\u001b[43m[\u001b[49m\u001b[43mpython\u001b[49m\u001b[43m,\u001b[49m\u001b[43m \u001b[49m\u001b[38;5;124;43m\"\u001b[39;49m\u001b[38;5;124;43m-m\u001b[39;49m\u001b[38;5;124;43m\"\u001b[39;49m\u001b[43m,\u001b[49m\u001b[43m \u001b[49m\u001b[38;5;124;43m\"\u001b[39;49m\u001b[38;5;124;43mpip\u001b[39;49m\u001b[38;5;124;43m\"\u001b[39;49m\u001b[43m,\u001b[49m\u001b[43m \u001b[49m\u001b[43mline\u001b[49m\u001b[43m]\u001b[49m\u001b[43m)\u001b[49m\u001b[43m)\u001b[49m\n\u001b[1;32m     94\u001b[0m \u001b[38;5;28mprint\u001b[39m(\u001b[38;5;124m\"\u001b[39m\u001b[38;5;124mNote: you may need to restart the kernel to use updated packages.\u001b[39m\u001b[38;5;124m\"\u001b[39m)\n",
            "File \u001b[0;32m/lib/python3.12/site-packages/IPython/core/interactiveshell.py:2653\u001b[0m, in \u001b[0;36mInteractiveShell.system_piped\u001b[0;34m(self, cmd)\u001b[0m\n\u001b[1;32m   2648\u001b[0m     \u001b[38;5;28;01mraise\u001b[39;00m \u001b[38;5;167;01mOSError\u001b[39;00m(\u001b[38;5;124m\"\u001b[39m\u001b[38;5;124mBackground processes not supported.\u001b[39m\u001b[38;5;124m\"\u001b[39m)\n\u001b[1;32m   2650\u001b[0m \u001b[38;5;66;03m# we explicitly do NOT return the subprocess status code, because\u001b[39;00m\n\u001b[1;32m   2651\u001b[0m \u001b[38;5;66;03m# a non-None value would trigger :func:`sys.displayhook` calls.\u001b[39;00m\n\u001b[1;32m   2652\u001b[0m \u001b[38;5;66;03m# Instead, we store the exit_code in user_ns.\u001b[39;00m\n\u001b[0;32m-> 2653\u001b[0m \u001b[38;5;28mself\u001b[39m\u001b[38;5;241m.\u001b[39muser_ns[\u001b[38;5;124m'\u001b[39m\u001b[38;5;124m_exit_code\u001b[39m\u001b[38;5;124m'\u001b[39m] \u001b[38;5;241m=\u001b[39m \u001b[43msystem\u001b[49m\u001b[43m(\u001b[49m\u001b[38;5;28;43mself\u001b[39;49m\u001b[38;5;241;43m.\u001b[39;49m\u001b[43mvar_expand\u001b[49m\u001b[43m(\u001b[49m\u001b[43mcmd\u001b[49m\u001b[43m,\u001b[49m\u001b[43m \u001b[49m\u001b[43mdepth\u001b[49m\u001b[38;5;241;43m=\u001b[39;49m\u001b[38;5;241;43m1\u001b[39;49m\u001b[43m)\u001b[49m\u001b[43m)\u001b[49m\n",
            "File \u001b[0;32m/lib/python3.12/site-packages/IPython/utils/_process_emscripten.py:11\u001b[0m, in \u001b[0;36msystem\u001b[0;34m(cmd)\u001b[0m\n\u001b[1;32m     10\u001b[0m \u001b[38;5;28;01mdef\u001b[39;00m \u001b[38;5;21msystem\u001b[39m(cmd):\n\u001b[0;32m---> 11\u001b[0m     \u001b[38;5;28;01mraise\u001b[39;00m \u001b[38;5;167;01mOSError\u001b[39;00m(\u001b[38;5;124m\"\u001b[39m\u001b[38;5;124mNot available\u001b[39m\u001b[38;5;124m\"\u001b[39m)\n",
            "\u001b[0;31mOSError\u001b[0m: Not available"
          ],
          "output_type": "error"
        }
      ],
      "execution_count": 1
    },
    {
      "cell_type": "code",
      "source": "import pandas as pd",
      "metadata": {
        "trusted": true
      },
      "outputs": [
        {
          "name": "stderr",
          "text": "<ipython-input-2-7dd3504c366f>:1: DeprecationWarning: \nPyarrow will become a required dependency of pandas in the next major release of pandas (pandas 3.0),\n(to allow more performant data types, such as the Arrow string type, and better interoperability with other libraries)\nbut was not found to be installed on your system.\nIf this would cause problems for you,\nplease provide us feedback at https://github.com/pandas-dev/pandas/issues/54466\n        \n  import pandas as pd\n",
          "output_type": "stream"
        }
      ],
      "execution_count": 2
    },
    {
      "cell_type": "code",
      "source": "dict= {\n    'Nome': ['Anderson','Beatriz','Bruno','Cristiano','Daniel','Douglas','Elena','Fabricio','Gabriel','Janaina','Luiz','Marcos','Nadja','Oswaldo','Patricia','Ricardo'],\n    'Idade': [24,36,45,56,29,20,38,47,23,56,32,22,36,68,22,38],\n    'Cidade': ['Santos','Atibaia','Guarulhos','Atibaia','Santos','Guarulhos','Guarulhos','Atibaia','Guarulhos','Guarulhos','Atibaia','Guarulhos','Santos','Guarulhos','Guarulhos','Santos'],\n    'Registro': [32123, 45828, 34985, 13457, 98439, 99348, 45019, 24894, 32948, 13480, 22884, 56821, 65938, 12956, 75439, 45392],\n    'Departamento': ['RH', 'PD', 'RH', 'ADM', 'ADM', 'RH', 'ADM', 'PD', 'PD', 'ADM', 'PD', 'ADM', 'PD', 'RH', 'ADM', 'PD'],\n    'Formação': ['Graduação', 'Mestrado', 'Graduação', 'Técnico', 'Graduação', 'Técnico', 'Graduação', 'Graduação', 'Técnico', 'Graduação', 'Graduação', 'Graduação', 'Graduação', 'Mestrado', 'Graduação', 'Mestrado']\n}",
      "metadata": {
        "trusted": true
      },
      "outputs": [],
      "execution_count": 19
    },
    {
      "cell_type": "code",
      "source": "dafra = pd.DataFrame(dict)",
      "metadata": {
        "trusted": true
      },
      "outputs": [],
      "execution_count": 20
    },
    {
      "cell_type": "code",
      "source": "print(dafra)",
      "metadata": {
        "trusted": true
      },
      "outputs": [
        {
          "name": "stdout",
          "text": "         Nome  Idade     Cidade  Registro Departamento   Formação\n0    Anderson     24     Santos     32123           RH  Graduação\n1     Beatriz     36    Atibaia     45828           PD   Mestrado\n2       Bruno     45  Guarulhos     34985           RH  Graduação\n3   Cristiano     56    Atibaia     13457          ADM    Técnico\n4      Daniel     29     Santos     98439          ADM  Graduação\n5     Douglas     20  Guarulhos     99348           RH    Técnico\n6       Elena     38  Guarulhos     45019          ADM  Graduação\n7    Fabricio     47    Atibaia     24894           PD  Graduação\n8     Gabriel     23  Guarulhos     32948           PD    Técnico\n9     Janaina     56  Guarulhos     13480          ADM  Graduação\n10       Luiz     32    Atibaia     22884           PD  Graduação\n11     Marcos     22  Guarulhos     56821          ADM  Graduação\n12      Nadja     36     Santos     65938           PD  Graduação\n13    Oswaldo     68  Guarulhos     12956           RH   Mestrado\n14   Patricia     22  Guarulhos     75439          ADM  Graduação\n15    Ricardo     38     Santos     45392           PD   Mestrado\n",
          "output_type": "stream"
        }
      ],
      "execution_count": 5
    },
    {
      "cell_type": "markdown",
      "source": "### Grupamento por:",
      "metadata": {}
    },
    {
      "cell_type": "code",
      "source": "# cidade dos funcionarios\ngrupo_cidade = dafra.groupby('Cidade')\nprint(dafra.groupby('Cidade').groups)",
      "metadata": {
        "trusted": true
      },
      "outputs": [
        {
          "name": "stdout",
          "text": "{'Atibaia': [1, 3, 7, 10], 'Guarulhos': [2, 5, 6, 8, 9, 11, 13, 14], 'Santos': [0, 4, 12, 15]}\n",
          "output_type": "stream"
        }
      ],
      "execution_count": 6
    },
    {
      "cell_type": "code",
      "source": "# formação dos funcionarios\ngrupo_funcionario = dafra.groupby('Formação')\nprint(dafra.groupby('Formação').groups)",
      "metadata": {
        "trusted": true
      },
      "outputs": [
        {
          "name": "stdout",
          "text": "{'Graduação': [0, 2, 4, 6, 7, 9, 10, 11, 12, 14], 'Mestrado': [1, 13, 15], 'Técnico': [3, 5, 8]}\n",
          "output_type": "stream"
        }
      ],
      "execution_count": 7
    },
    {
      "cell_type": "code",
      "source": "# departamento dos funcionarios\ngrupo_departamento = dafra.groupby('Departamento')\nprint(dafra.groupby('Departamento').groups)",
      "metadata": {
        "trusted": true
      },
      "outputs": [
        {
          "name": "stdout",
          "text": "{'ADM': [3, 4, 6, 9, 11, 14], 'PD': [1, 7, 8, 10, 12, 15], 'RH': [0, 2, 5, 13]}\n",
          "output_type": "stream"
        }
      ],
      "execution_count": 8
    },
    {
      "cell_type": "code",
      "source": "# cidade e departamento dos funcionarios\ngrupo_cidade_departamento = dafra.groupby(['Cidade', 'Departamento'])\nprint(grupo_cidade_departamento.groups)",
      "metadata": {
        "trusted": true
      },
      "outputs": [
        {
          "name": "stdout",
          "text": "{('Atibaia', 'ADM'): [3], ('Atibaia', 'PD'): [1, 7, 10], ('Guarulhos', 'ADM'): [6, 9, 11, 14], ('Guarulhos', 'PD'): [8], ('Guarulhos', 'RH'): [2, 5, 13], ('Santos', 'ADM'): [4], ('Santos', 'PD'): [12, 15], ('Santos', 'RH'): [0]}\n",
          "output_type": "stream"
        }
      ],
      "execution_count": 10
    },
    {
      "cell_type": "code",
      "source": "# departamento e formação dos funcionarios\ngrupo_departamento_formacao = dafra.groupby(['Departamento', 'Formação'])\nprint(grupo_departamento_formacao.groups)",
      "metadata": {
        "trusted": true
      },
      "outputs": [
        {
          "name": "stdout",
          "text": "{('ADM', 'Graduação'): [4, 6, 9, 11, 14], ('ADM', 'Técnico'): [3], ('PD', 'Graduação'): [7, 10, 12], ('PD', 'Mestrado'): [1, 15], ('PD', 'Técnico'): [8], ('RH', 'Graduação'): [0, 2], ('RH', 'Mestrado'): [13], ('RH', 'Técnico'): [5]}\n",
          "output_type": "stream"
        }
      ],
      "execution_count": 11
    },
    {
      "cell_type": "markdown",
      "source": "### Utilizando uma função lambda obtenha a diferença entre a média e o valor de cada subgrupo:\n",
      "metadata": {}
    },
    {
      "cell_type": "code",
      "source": "# Funcao\ndef diff_from_mean(subgroup):\n    return subgroup['Idade'] - subgroup['Idade'].mean()",
      "metadata": {
        "trusted": true
      },
      "outputs": [],
      "execution_count": 12
    },
    {
      "cell_type": "code",
      "source": "dafra['Diferença da Média (Cidade)'] = dafra.groupby('Cidade').apply(lambda x: diff_from_mean(x)).reset_index(drop=True)",
      "metadata": {
        "trusted": true
      },
      "outputs": [
        {
          "name": "stderr",
          "text": "<ipython-input-28-700238353d8a>:1: DeprecationWarning: DataFrameGroupBy.apply operated on the grouping columns. This behavior is deprecated, and in a future version of pandas the grouping columns will be excluded from the operation. Either pass `include_groups=False` to exclude the groupings or explicitly select the grouping columns after groupby to silence this warning.\n  dafra['Diferença da Média (Cidade)'] = dafra.groupby('Cidade').apply(lambda x: diff_from_mean(x)).reset_index(drop=True)\n",
          "output_type": "stream"
        }
      ],
      "execution_count": 28
    },
    {
      "cell_type": "code",
      "source": "print(dafra)",
      "metadata": {
        "trusted": true
      },
      "outputs": [
        {
          "name": "stdout",
          "text": "         Nome  Idade     Cidade  Registro Departamento   Formação  \\\n0    Anderson     24     Santos     32123           RH  Graduação   \n1     Beatriz     36    Atibaia     45828           PD   Mestrado   \n2       Bruno     45  Guarulhos     34985           RH  Graduação   \n3   Cristiano     56    Atibaia     13457          ADM    Técnico   \n4      Daniel     29     Santos     98439          ADM  Graduação   \n5     Douglas     20  Guarulhos     99348           RH    Técnico   \n6       Elena     38  Guarulhos     45019          ADM  Graduação   \n7    Fabricio     47    Atibaia     24894           PD  Graduação   \n8     Gabriel     23  Guarulhos     32948           PD    Técnico   \n9     Janaina     56  Guarulhos     13480          ADM  Graduação   \n10       Luiz     32    Atibaia     22884           PD  Graduação   \n11     Marcos     22  Guarulhos     56821          ADM  Graduação   \n12      Nadja     36     Santos     65938           PD  Graduação   \n13    Oswaldo     68  Guarulhos     12956           RH   Mestrado   \n14   Patricia     22  Guarulhos     75439          ADM  Graduação   \n15    Ricardo     38     Santos     45392           PD   Mestrado   \n\n    Diferença da Média (Formação)  Diferença da Média (Cidade e Departamento)  \\\n0                      -11.100000                                    0.000000   \n1                        9.900000                                   -2.333333   \n2                       -6.100000                                    8.666667   \n3                        2.900000                                   -6.333333   \n4                       11.900000                                    3.500000   \n5                       20.900000                                   21.500000   \n6                       -3.100000                                  -12.500000   \n7                      -13.100000                                  -12.500000   \n8                        0.900000                                    0.000000   \n9                      -13.100000                                    0.666667   \n10                     -11.333333                                  -24.333333   \n11                      20.666667                                   23.666667   \n12                      -9.333333                                    0.000000   \n13                      23.000000                                   -1.000000   \n14                     -13.000000                                    1.000000   \n15                     -10.000000                                    0.000000   \n\n    Diferença da Média (Departamento)  Diferença da Média (Cidade)  \n0                           18.833333                        -6.75  \n1                           -8.166667                        13.25  \n2                            0.833333                         4.25  \n3                           18.833333                       -10.75  \n4                          -15.166667                         8.25  \n5                          -15.166667                       -16.75  \n6                            0.666667                         1.25  \n7                           11.666667                       -13.75  \n8                          -12.333333                        19.25  \n9                           -3.333333                       -14.75  \n10                           0.666667                        31.25  \n11                           2.666667                       -14.75  \n12                         -15.250000                        -7.75  \n13                           5.750000                        -2.75  \n14                         -19.250000                         4.25  \n15                          28.750000                         6.25  \n",
          "output_type": "stream"
        }
      ],
      "execution_count": 29
    },
    {
      "cell_type": "code",
      "source": "dafra['Diferença da Média (Formação)'] = dafra.groupby('Formação').apply(lambda x: diff_from_mean(x)).reset_index(drop=True)\n",
      "metadata": {
        "trusted": true
      },
      "outputs": [
        {
          "name": "stderr",
          "text": "<ipython-input-23-80c1282da59f>:1: DeprecationWarning: DataFrameGroupBy.apply operated on the grouping columns. This behavior is deprecated, and in a future version of pandas the grouping columns will be excluded from the operation. Either pass `include_groups=False` to exclude the groupings or explicitly select the grouping columns after groupby to silence this warning.\n  dafra['Diferença da Média (Formação)'] = dafra.groupby('Formação').apply(lambda x: diff_from_mean(x)).reset_index(drop=True)\n",
          "output_type": "stream"
        }
      ],
      "execution_count": 23
    },
    {
      "cell_type": "code",
      "source": "print(dafra)",
      "metadata": {
        "trusted": true
      },
      "outputs": [
        {
          "name": "stdout",
          "text": "         Nome  Idade     Cidade  Registro Departamento   Formação  \\\n0    Anderson     24     Santos     32123           RH  Graduação   \n1     Beatriz     36    Atibaia     45828           PD   Mestrado   \n2       Bruno     45  Guarulhos     34985           RH  Graduação   \n3   Cristiano     56    Atibaia     13457          ADM    Técnico   \n4      Daniel     29     Santos     98439          ADM  Graduação   \n5     Douglas     20  Guarulhos     99348           RH    Técnico   \n6       Elena     38  Guarulhos     45019          ADM  Graduação   \n7    Fabricio     47    Atibaia     24894           PD  Graduação   \n8     Gabriel     23  Guarulhos     32948           PD    Técnico   \n9     Janaina     56  Guarulhos     13480          ADM  Graduação   \n10       Luiz     32    Atibaia     22884           PD  Graduação   \n11     Marcos     22  Guarulhos     56821          ADM  Graduação   \n12      Nadja     36     Santos     65938           PD  Graduação   \n13    Oswaldo     68  Guarulhos     12956           RH   Mestrado   \n14   Patricia     22  Guarulhos     75439          ADM  Graduação   \n15    Ricardo     38     Santos     45392           PD   Mestrado   \n\n    Diferença da Média (Formação)  \n0                      -11.100000  \n1                        9.900000  \n2                       -6.100000  \n3                        2.900000  \n4                       11.900000  \n5                       20.900000  \n6                       -3.100000  \n7                      -13.100000  \n8                        0.900000  \n9                      -13.100000  \n10                     -11.333333  \n11                      20.666667  \n12                      -9.333333  \n13                      23.000000  \n14                     -13.000000  \n15                     -10.000000  \n",
          "output_type": "stream"
        }
      ],
      "execution_count": 24
    },
    {
      "cell_type": "code",
      "source": "dafra['Diferença da Média (Departamento)'] = dafra.groupby('Departamento').apply(lambda x: diff_from_mean(x)).reset_index(drop=True)\n",
      "metadata": {
        "trusted": true
      },
      "outputs": [
        {
          "name": "stderr",
          "text": "<ipython-input-26-e55345af9ed7>:1: DeprecationWarning: DataFrameGroupBy.apply operated on the grouping columns. This behavior is deprecated, and in a future version of pandas the grouping columns will be excluded from the operation. Either pass `include_groups=False` to exclude the groupings or explicitly select the grouping columns after groupby to silence this warning.\n  dafra['Diferença da Média (Departamento)'] = dafra.groupby('Departamento').apply(lambda x: diff_from_mean(x)).reset_index(drop=True)\n",
          "output_type": "stream"
        }
      ],
      "execution_count": 26
    },
    {
      "cell_type": "code",
      "source": "print(dafra)",
      "metadata": {
        "trusted": true
      },
      "outputs": [
        {
          "name": "stdout",
          "text": "         Nome  Idade     Cidade  Registro Departamento   Formação  \\\n0    Anderson     24     Santos     32123           RH  Graduação   \n1     Beatriz     36    Atibaia     45828           PD   Mestrado   \n2       Bruno     45  Guarulhos     34985           RH  Graduação   \n3   Cristiano     56    Atibaia     13457          ADM    Técnico   \n4      Daniel     29     Santos     98439          ADM  Graduação   \n5     Douglas     20  Guarulhos     99348           RH    Técnico   \n6       Elena     38  Guarulhos     45019          ADM  Graduação   \n7    Fabricio     47    Atibaia     24894           PD  Graduação   \n8     Gabriel     23  Guarulhos     32948           PD    Técnico   \n9     Janaina     56  Guarulhos     13480          ADM  Graduação   \n10       Luiz     32    Atibaia     22884           PD  Graduação   \n11     Marcos     22  Guarulhos     56821          ADM  Graduação   \n12      Nadja     36     Santos     65938           PD  Graduação   \n13    Oswaldo     68  Guarulhos     12956           RH   Mestrado   \n14   Patricia     22  Guarulhos     75439          ADM  Graduação   \n15    Ricardo     38     Santos     45392           PD   Mestrado   \n\n    Diferença da Média (Formação)  Diferença da Média (Cidade e Departamento)  \\\n0                      -11.100000                                    0.000000   \n1                        9.900000                                   -2.333333   \n2                       -6.100000                                    8.666667   \n3                        2.900000                                   -6.333333   \n4                       11.900000                                    3.500000   \n5                       20.900000                                   21.500000   \n6                       -3.100000                                  -12.500000   \n7                      -13.100000                                  -12.500000   \n8                        0.900000                                    0.000000   \n9                      -13.100000                                    0.666667   \n10                     -11.333333                                  -24.333333   \n11                      20.666667                                   23.666667   \n12                      -9.333333                                    0.000000   \n13                      23.000000                                   -1.000000   \n14                     -13.000000                                    1.000000   \n15                     -10.000000                                    0.000000   \n\n    Diferença da Média (Departamento)  \n0                           18.833333  \n1                           -8.166667  \n2                            0.833333  \n3                           18.833333  \n4                          -15.166667  \n5                          -15.166667  \n6                            0.666667  \n7                           11.666667  \n8                          -12.333333  \n9                           -3.333333  \n10                           0.666667  \n11                           2.666667  \n12                         -15.250000  \n13                           5.750000  \n14                         -19.250000  \n15                          28.750000  \n",
          "output_type": "stream"
        }
      ],
      "execution_count": 27
    },
    {
      "cell_type": "code",
      "source": "dafra['Diferença da Média (Cidade e Departamento)'] = dafra.groupby(['Cidade', 'Departamento']).apply(lambda x: diff_from_mean(x)).reset_index(drop=True)\n",
      "metadata": {
        "trusted": true
      },
      "outputs": [
        {
          "name": "stderr",
          "text": "<ipython-input-30-831c3fedfd15>:1: DeprecationWarning: DataFrameGroupBy.apply operated on the grouping columns. This behavior is deprecated, and in a future version of pandas the grouping columns will be excluded from the operation. Either pass `include_groups=False` to exclude the groupings or explicitly select the grouping columns after groupby to silence this warning.\n  dafra['Diferença da Média (Cidade e Departamento)'] = dafra.groupby(['Cidade', 'Departamento']).apply(lambda x: diff_from_mean(x)).reset_index(drop=True)\n",
          "output_type": "stream"
        }
      ],
      "execution_count": 30
    },
    {
      "cell_type": "code",
      "source": "print(dafra)",
      "metadata": {
        "trusted": true
      },
      "outputs": [
        {
          "name": "stdout",
          "text": "         Nome  Idade     Cidade  Registro Departamento   Formação  \\\n0    Anderson     24     Santos     32123           RH  Graduação   \n1     Beatriz     36    Atibaia     45828           PD   Mestrado   \n2       Bruno     45  Guarulhos     34985           RH  Graduação   \n3   Cristiano     56    Atibaia     13457          ADM    Técnico   \n4      Daniel     29     Santos     98439          ADM  Graduação   \n5     Douglas     20  Guarulhos     99348           RH    Técnico   \n6       Elena     38  Guarulhos     45019          ADM  Graduação   \n7    Fabricio     47    Atibaia     24894           PD  Graduação   \n8     Gabriel     23  Guarulhos     32948           PD    Técnico   \n9     Janaina     56  Guarulhos     13480          ADM  Graduação   \n10       Luiz     32    Atibaia     22884           PD  Graduação   \n11     Marcos     22  Guarulhos     56821          ADM  Graduação   \n12      Nadja     36     Santos     65938           PD  Graduação   \n13    Oswaldo     68  Guarulhos     12956           RH   Mestrado   \n14   Patricia     22  Guarulhos     75439          ADM  Graduação   \n15    Ricardo     38     Santos     45392           PD   Mestrado   \n\n    Diferença da Média (Formação)  Diferença da Média (Cidade e Departamento)  \\\n0                      -11.100000                                    0.000000   \n1                        9.900000                                   -2.333333   \n2                       -6.100000                                    8.666667   \n3                        2.900000                                   -6.333333   \n4                       11.900000                                    3.500000   \n5                       20.900000                                   21.500000   \n6                       -3.100000                                  -12.500000   \n7                      -13.100000                                  -12.500000   \n8                        0.900000                                    0.000000   \n9                      -13.100000                                    0.666667   \n10                     -11.333333                                  -24.333333   \n11                      20.666667                                   23.666667   \n12                      -9.333333                                    0.000000   \n13                      23.000000                                   -1.000000   \n14                     -13.000000                                    1.000000   \n15                     -10.000000                                    0.000000   \n\n    Diferença da Média (Departamento)  Diferença da Média (Cidade)  \n0                           18.833333                        -6.75  \n1                           -8.166667                        13.25  \n2                            0.833333                         4.25  \n3                           18.833333                       -10.75  \n4                          -15.166667                         8.25  \n5                          -15.166667                       -16.75  \n6                            0.666667                         1.25  \n7                           11.666667                       -13.75  \n8                          -12.333333                        19.25  \n9                           -3.333333                       -14.75  \n10                           0.666667                        31.25  \n11                           2.666667                       -14.75  \n12                         -15.250000                        -7.75  \n13                           5.750000                        -2.75  \n14                         -19.250000                         4.25  \n15                          28.750000                         6.25  \n",
          "output_type": "stream"
        }
      ],
      "execution_count": 31
    },
    {
      "cell_type": "code",
      "source": "dafra['Diferença da Média (Departamento e Formação)'] = dafra.groupby(['Departamento', 'Formação']).apply(lambda x: diff_from_mean(x)).reset_index(drop=True)\n",
      "metadata": {
        "trusted": true
      },
      "outputs": [
        {
          "name": "stderr",
          "text": "<ipython-input-33-d536c0f523bb>:1: DeprecationWarning: DataFrameGroupBy.apply operated on the grouping columns. This behavior is deprecated, and in a future version of pandas the grouping columns will be excluded from the operation. Either pass `include_groups=False` to exclude the groupings or explicitly select the grouping columns after groupby to silence this warning.\n  dafra['Diferença da Média (Departamento e Formação)'] = dafra.groupby(['Departamento', 'Formação']).apply(lambda x: diff_from_mean(x)).reset_index(drop=True)\n",
          "output_type": "stream"
        }
      ],
      "execution_count": 33
    },
    {
      "cell_type": "code",
      "source": "print(dafra)",
      "metadata": {
        "trusted": true
      },
      "outputs": [
        {
          "name": "stdout",
          "text": "         Nome  Idade     Cidade  Registro Departamento   Formação  \\\n0    Anderson     24     Santos     32123           RH  Graduação   \n1     Beatriz     36    Atibaia     45828           PD   Mestrado   \n2       Bruno     45  Guarulhos     34985           RH  Graduação   \n3   Cristiano     56    Atibaia     13457          ADM    Técnico   \n4      Daniel     29     Santos     98439          ADM  Graduação   \n5     Douglas     20  Guarulhos     99348           RH    Técnico   \n6       Elena     38  Guarulhos     45019          ADM  Graduação   \n7    Fabricio     47    Atibaia     24894           PD  Graduação   \n8     Gabriel     23  Guarulhos     32948           PD    Técnico   \n9     Janaina     56  Guarulhos     13480          ADM  Graduação   \n10       Luiz     32    Atibaia     22884           PD  Graduação   \n11     Marcos     22  Guarulhos     56821          ADM  Graduação   \n12      Nadja     36     Santos     65938           PD  Graduação   \n13    Oswaldo     68  Guarulhos     12956           RH   Mestrado   \n14   Patricia     22  Guarulhos     75439          ADM  Graduação   \n15    Ricardo     38     Santos     45392           PD   Mestrado   \n\n    Diferença da Média (Formação)  Diferença da Média (Cidade e Departamento)  \\\n0                      -11.100000                                    0.000000   \n1                        9.900000                                   -2.333333   \n2                       -6.100000                                    8.666667   \n3                        2.900000                                   -6.333333   \n4                       11.900000                                    3.500000   \n5                       20.900000                                   21.500000   \n6                       -3.100000                                  -12.500000   \n7                      -13.100000                                  -12.500000   \n8                        0.900000                                    0.000000   \n9                      -13.100000                                    0.666667   \n10                     -11.333333                                  -24.333333   \n11                      20.666667                                   23.666667   \n12                      -9.333333                                    0.000000   \n13                      23.000000                                   -1.000000   \n14                     -13.000000                                    1.000000   \n15                     -10.000000                                    0.000000   \n\n    Diferença da Média (Departamento)  Diferença da Média (Cidade)  \\\n0                           18.833333                        -6.75   \n1                           -8.166667                        13.25   \n2                            0.833333                         4.25   \n3                           18.833333                       -10.75   \n4                          -15.166667                         8.25   \n5                          -15.166667                       -16.75   \n6                            0.666667                         1.25   \n7                           11.666667                       -13.75   \n8                          -12.333333                        19.25   \n9                           -3.333333                       -14.75   \n10                           0.666667                        31.25   \n11                           2.666667                       -14.75   \n12                         -15.250000                        -7.75   \n13                           5.750000                        -2.75   \n14                         -19.250000                         4.25   \n15                          28.750000                         6.25   \n\n    Diferença da Média (Departamento e Formação)  \n0                                      -4.400000  \n1                                       4.600000  \n2                                      22.600000  \n3                                     -11.400000  \n4                                     -11.400000  \n5                                       0.000000  \n6                                       8.666667  \n7                                      -6.333333  \n8                                      -2.333333  \n9                                      -1.000000  \n10                                      1.000000  \n11                                      0.000000  \n12                                    -10.500000  \n13                                     10.500000  \n14                                      0.000000  \n15                                      0.000000  \n",
          "output_type": "stream"
        }
      ],
      "execution_count": 34
    },
    {
      "cell_type": "code",
      "source": "",
      "metadata": {
        "trusted": true
      },
      "outputs": [],
      "execution_count": null
    }
  ]
}